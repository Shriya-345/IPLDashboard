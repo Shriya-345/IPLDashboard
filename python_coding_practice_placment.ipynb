{
  "nbformat": 4,
  "nbformat_minor": 0,
  "metadata": {
    "colab": {
      "provenance": [],
      "authorship_tag": "ABX9TyPZPX2xpGxCYQCjbjRO4RkU",
      "include_colab_link": true
    },
    "kernelspec": {
      "name": "python3",
      "display_name": "Python 3"
    },
    "language_info": {
      "name": "python"
    }
  },
  "cells": [
    {
      "cell_type": "markdown",
      "metadata": {
        "id": "view-in-github",
        "colab_type": "text"
      },
      "source": [
        "<a href=\"https://colab.research.google.com/github/Shriya-345/IPLDashboard/blob/main/python_coding_practice_placment.ipynb\" target=\"_parent\"><img src=\"https://colab.research.google.com/assets/colab-badge.svg\" alt=\"Open In Colab\"/></a>"
      ]
    },
    {
      "cell_type": "markdown",
      "source": [
        "#write a program that determines whether an alphabet,digit or whitespace was entered in python"
      ],
      "metadata": {
        "id": "kfuatU9xCLL2"
      }
    },
    {
      "cell_type": "code",
      "source": [
        "def checkvalues(char):\n",
        "  if char.isalpha():\n",
        "    return (\"entering a alphavalues\")\n",
        "  elif char.isdigit():\n",
        "    return \"entering a valiue\"\n",
        "  elif char.isspace():\n",
        "    return \"entering a valiue\"\n",
        "  else:\n",
        "    return \"invalidinput\"\n",
        "char=input()\n",
        "result=checkvalues(char)\n",
        "print(result)\n"
      ],
      "metadata": {
        "colab": {
          "base_uri": "https://localhost:8080/"
        },
        "id": "ktrnoGKrCLbY",
        "outputId": "0330bfa7-3e7e-4365-cabe-e23247407b25"
      },
      "execution_count": null,
      "outputs": [
        {
          "output_type": "stream",
          "name": "stdout",
          "text": [
            "\n",
            "invalidinput\n"
          ]
        }
      ]
    },
    {
      "cell_type": "markdown",
      "source": [
        "#count number of lowercase uppercae characters digit in python"
      ],
      "metadata": {
        "id": "NywPrmc5EZ-V"
      }
    },
    {
      "cell_type": "code",
      "source": [
        "def count_characters(s):\n",
        "    lowercase_count = 0\n",
        "    uppercase_count = 0\n",
        "    digit_count = 0\n",
        "\n",
        "    for char in s:\n",
        "        if char.islower():\n",
        "            lowercase_count += 1\n",
        "        elif char.isupper():\n",
        "            uppercase_count += 1\n",
        "        elif char.isdigit():\n",
        "            digit_count += 1\n",
        "\n",
        "    return lowercase_count, uppercase_count, digit_count\n",
        "\n",
        "input_string = input()\n",
        "lowercase=count_characters(input_string)\n",
        "uppercase=count_characters(input_string)\n",
        "digits = count_characters(input_string)\n",
        "\n",
        "print(lowercase)\n",
        "print(uppercase)\n",
        "print(digits)\n"
      ],
      "metadata": {
        "colab": {
          "base_uri": "https://localhost:8080/"
        },
        "id": "_l_MxJMICcEp",
        "outputId": "ffcabf30-7dbe-4d96-fbc5-04b9793b6f68"
      },
      "execution_count": null,
      "outputs": [
        {
          "output_type": "stream",
          "name": "stdout",
          "text": [
            "ABCabc123\n",
            "(3, 3, 3)\n",
            "(3, 3, 3)\n",
            "(3, 3, 3)\n"
          ]
        }
      ]
    },
    {
      "cell_type": "markdown",
      "source": [
        "#write a program on sum of series"
      ],
      "metadata": {
        "id": "7Bcm92VdL0mO"
      }
    },
    {
      "cell_type": "code",
      "source": [
        "# Function to calculate the sum of the series\n",
        "def sum_of_series(n):\n",
        "    total_sum = 0\n",
        "    for i in range(1, n + 1):\n",
        "        total_sum += i  # Since i^2 / i simplifies to i\n",
        "    return total_sum\n",
        "\n",
        "# Input: n\n",
        "n = int(input(\"Enter the value of n: \"))\n",
        "\n",
        "# Output: sum of the series\n",
        "result = sum_of_series(n)\n",
        "print(f\"The sum of the series for n = {n} is: {result}\")\n"
      ],
      "metadata": {
        "colab": {
          "base_uri": "https://localhost:8080/"
        },
        "id": "bPYeLvOqLz1l",
        "outputId": "a5d40edc-49b7-40ea-9635-45ada3876f5a"
      },
      "execution_count": null,
      "outputs": [
        {
          "output_type": "stream",
          "name": "stdout",
          "text": [
            "Enter the value of n: 3\n",
            "The sum of the series for n = 3 is: 6\n"
          ]
        }
      ]
    },
    {
      "cell_type": "markdown",
      "source": [
        "#write a program to print number,itssquare,its cube  repetedlt rangge(1,n)"
      ],
      "metadata": {
        "id": "VBR6o-0AQdD6"
      }
    },
    {
      "cell_type": "code",
      "source": [
        "# Function to print number, its square, and its cube for the range (1, n)\n",
        "def print_number_square_cube(n):\n",
        "    print(\"Number\\tSquare\\tCube\")\n",
        "    for i in range(1, n + 1):\n",
        "        print(f\"{i}\\t{i**2}\\t{i**3}\")\n",
        "\n",
        "# Input: n\n",
        "n = int(input(\"Enter the value of n: \"))\n",
        "\n",
        "# Output: print number, its square, and its cube for the range (1, n)\n",
        "print_number_square_cube(n)\n"
      ],
      "metadata": {
        "id": "aK7XsOdNQcZd"
      },
      "execution_count": null,
      "outputs": []
    },
    {
      "cell_type": "markdown",
      "source": [
        "#floyd's triangle"
      ],
      "metadata": {
        "id": "UTY_vMIeUe2z"
      }
    },
    {
      "cell_type": "code",
      "source": [
        "\n",
        "def floydTriangle(n):\n",
        "\n",
        "\tval = 1\n",
        "\tfor i in range(1, n + 1):\n",
        "\n",
        "\t\tfor j in range(1, i + 1):\n",
        "\t\t\tprint(val, end = \" \")\n",
        "\t\t\tval += 1\n",
        "\n",
        "\t\tprint(\"\")\n",
        "\n",
        "floydTriangle(6)\n",
        "\n",
        "# This code is contributed by\n",
        "# Smitha Dinesh Semwal\n"
      ],
      "metadata": {
        "colab": {
          "base_uri": "https://localhost:8080/"
        },
        "id": "RG5rv7z3WpPw",
        "outputId": "152b1f65-ec93-49d2-a650-65007ceae3e3"
      },
      "execution_count": null,
      "outputs": [
        {
          "output_type": "stream",
          "name": "stdout",
          "text": [
            "1 \n",
            "2 3 \n",
            "4 5 6 \n",
            "7 8 9 10 \n",
            "11 12 13 14 15 \n",
            "16 17 18 19 20 21 \n"
          ]
        }
      ]
    },
    {
      "cell_type": "markdown",
      "source": [
        "#dispay sinx value"
      ],
      "metadata": {
        "id": "vI2SvnC0dS1p"
      }
    },
    {
      "cell_type": "code",
      "source": [
        "import math\n",
        "x=int(input())\n",
        "for i in range(0,360,15):\n",
        "  radian=math.radians(i)\n",
        "  sinvalue=math.sin(radian)\n",
        "  print(sinvalue)"
      ],
      "metadata": {
        "colab": {
          "base_uri": "https://localhost:8080/"
        },
        "id": "5SGygAhqdZMq",
        "outputId": "c0203ced-3d6f-457a-a290-32d56fb2b26a"
      },
      "execution_count": null,
      "outputs": [
        {
          "output_type": "stream",
          "name": "stdout",
          "text": [
            "30\n",
            "0.0\n",
            "0.25881904510252074\n",
            "0.49999999999999994\n",
            "0.7071067811865475\n",
            "0.8660254037844386\n",
            "0.9659258262890683\n",
            "1.0\n",
            "0.9659258262890683\n",
            "0.8660254037844387\n",
            "0.7071067811865476\n",
            "0.49999999999999994\n",
            "0.258819045102521\n",
            "1.2246467991473532e-16\n",
            "-0.2588190451025208\n",
            "-0.5000000000000001\n",
            "-0.7071067811865475\n",
            "-0.8660254037844384\n",
            "-0.9659258262890683\n",
            "-1.0\n",
            "-0.9659258262890684\n",
            "-0.8660254037844386\n",
            "-0.7071067811865477\n",
            "-0.5000000000000004\n",
            "-0.2588190451025207\n"
          ]
        }
      ]
    },
    {
      "cell_type": "markdown",
      "source": [
        "#"
      ],
      "metadata": {
        "id": "eL2nCfZieOtu"
      }
    },
    {
      "cell_type": "code",
      "source": [],
      "metadata": {
        "id": "L8gTASuMdhhx"
      },
      "execution_count": null,
      "outputs": []
    }
  ]
}